{
 "cells": [
  {
   "cell_type": "code",
   "execution_count": 15,
   "id": "466de677",
   "metadata": {},
   "outputs": [],
   "source": [
    "from faker import Faker\n",
    "from faker_vehicle import VehicleProvider\n",
    "import pandas as pd\n",
    "import numpy as np\n",
    "import datetime\n"
   ]
  },
  {
   "cell_type": "markdown",
   "id": "080e5dd5",
   "metadata": {},
   "source": [
    "Y obtenemos un objeto de tipo Faker"
   ]
  },
  {
   "cell_type": "code",
   "execution_count": 4,
   "id": "bc45e7a2",
   "metadata": {},
   "outputs": [],
   "source": [
    "fake = Faker()"
   ]
  },
  {
   "cell_type": "markdown",
   "id": "6124d76c",
   "metadata": {},
   "source": [
    "Añadimos el proveedor de datos con marcas y modelos de autos."
   ]
  },
  {
   "cell_type": "code",
   "execution_count": 5,
   "id": "a61d8bad",
   "metadata": {},
   "outputs": [],
   "source": [
    "fake.add_provider(VehicleProvider)"
   ]
  },
  {
   "cell_type": "markdown",
   "id": "26a0fdf1",
   "metadata": {},
   "source": [
    "Hacemos una pequeña prueba para asegurarnos de que todo marcha bien."
   ]
  },
  {
   "cell_type": "code",
   "execution_count": 6,
   "id": "9656b787",
   "metadata": {},
   "outputs": [
    {
     "data": {
      "text/plain": [
       "'Robert Mccarthy'"
      ]
     },
     "execution_count": 6,
     "metadata": {},
     "output_type": "execute_result"
    }
   ],
   "source": [
    "fake.name()"
   ]
  },
  {
   "cell_type": "code",
   "execution_count": 7,
   "id": "2a43a122",
   "metadata": {},
   "outputs": [
    {
     "data": {
      "text/plain": [
       "'Hyundai Elantra'"
      ]
     },
     "execution_count": 7,
     "metadata": {},
     "output_type": "execute_result"
    }
   ],
   "source": [
    "fake.vehicle_make_model()"
   ]
  },
  {
   "cell_type": "markdown",
   "id": "2a939270",
   "metadata": {},
   "source": [
    "Hasta ahora todo bien. Vamos a probar precio. Para eso, después de buscar en la documentación, vemos que existe faker.random_number, con los parametros cantidad de digitos, y se puede especificar que solo nos interesan los numeros que tengan esa cantidad de digitos. Lo que pudiera quedar así:"
   ]
  },
  {
   "cell_type": "code",
   "execution_count": 9,
   "id": "06b5bf77",
   "metadata": {},
   "outputs": [
    {
     "data": {
      "text/plain": [
       "55397"
      ]
     },
     "execution_count": 9,
     "metadata": {},
     "output_type": "execute_result"
    }
   ],
   "source": [
    "fake.random_number(digits=5, fix_len=True)"
   ]
  },
  {
   "cell_type": "markdown",
   "id": "76d00757",
   "metadata": {},
   "source": [
    "Sin embargo, me interesa un rango de números aleatorios más cerrado, digamos entre 10000 y 40000. Por eso prefiero usar la librería numpy y su funcionalidad para general números aleatorios"
   ]
  },
  {
   "cell_type": "code",
   "execution_count": 29,
   "id": "126b901e",
   "metadata": {},
   "outputs": [
    {
     "data": {
      "text/plain": [
       "23864"
      ]
     },
     "execution_count": 29,
     "metadata": {},
     "output_type": "execute_result"
    }
   ],
   "source": [
    "np.random.randint(10000, 40000)"
   ]
  },
  {
   "cell_type": "markdown",
   "id": "a9982734",
   "metadata": {},
   "source": [
    "Y le toca el turno a la fecha. Despues de revisar la documentación vemos que podemos definir un rango de fecha, con la función date_between(start_date, end_date). Tiene la particularidad que si se omite la fecha final, se asume que el rango es hasta el momento actual. Los parametros de entrada se definen mediante objetos Date"
   ]
  },
  {
   "cell_type": "code",
   "execution_count": 17,
   "id": "63f8300d",
   "metadata": {},
   "outputs": [
    {
     "data": {
      "text/plain": [
       "datetime.date(2022, 4, 30)"
      ]
     },
     "execution_count": 17,
     "metadata": {},
     "output_type": "execute_result"
    }
   ],
   "source": [
    "fake.date_between(datetime.date(2021,1,1))"
   ]
  },
  {
   "cell_type": "markdown",
   "id": "0f8aa1d0",
   "metadata": {},
   "source": [
    "Hemos recibido un objeto datetime.date, pero nos interesa guardarlo en el dataframe en forma de string. Así que vamos a ejecutarlo otra ves, esta vez llamando una función de la librería datetime para formatear adecuadamente a string."
   ]
  },
  {
   "cell_type": "code",
   "execution_count": 21,
   "id": "7c21c11f",
   "metadata": {},
   "outputs": [
    {
     "data": {
      "text/plain": [
       "'2021-09-06'"
      ]
     },
     "execution_count": 21,
     "metadata": {},
     "output_type": "execute_result"
    }
   ],
   "source": [
    "fake.date_between(datetime.date(2021,1,1)).strftime('%Y-%m-%d')"
   ]
  },
  {
   "cell_type": "markdown",
   "id": "e3a074f9",
   "metadata": {},
   "source": [
    "Vamos a poner todas las piezas juntas. Para eso vamos a aprovechar list comprehension (comprensión de listas) "
   ]
  },
  {
   "cell_type": "code",
   "execution_count": 30,
   "id": "76999c32",
   "metadata": {},
   "outputs": [],
   "source": [
    "data = [\n",
    "             { \"costumer\": fake.name(),\n",
    "               \"car\": fake.vehicle_make_model(),\n",
    "               \"price\": np.random.randint(10000, 40000),\n",
    "               \"date\": fake.date_between(datetime.date(2021,1,1)).strftime('%Y-%m-%d')\n",
    "             }\n",
    "             for i in range(2000)\n",
    "         ]"
   ]
  },
  {
   "cell_type": "markdown",
   "id": "3cfbb311",
   "metadata": {},
   "source": [
    "Vemos como luce nuestra lista"
   ]
  },
  {
   "cell_type": "code",
   "execution_count": 31,
   "id": "11d11d4b",
   "metadata": {},
   "outputs": [
    {
     "data": {
      "text/plain": [
       "[{'costumer': 'Bobby Banks',\n",
       "  'car': 'Hyundai Genesis Coupe',\n",
       "  'price': 15170,\n",
       "  'date': '2022-09-23'},\n",
       " {'costumer': 'Brian Matthews',\n",
       "  'car': 'Chrysler 300',\n",
       "  'price': 13378,\n",
       "  'date': '2021-11-10'},\n",
       " {'costumer': 'Ashley Murphy',\n",
       "  'car': 'Chevrolet Silverado 2500 HD Regular Cab',\n",
       "  'price': 30434,\n",
       "  'date': '2021-04-21'}]"
      ]
     },
     "execution_count": 31,
     "metadata": {},
     "output_type": "execute_result"
    }
   ],
   "source": [
    "data[0:3]"
   ]
  },
  {
   "cell_type": "markdown",
   "id": "59cc65e5",
   "metadata": {},
   "source": [
    "Y finalmente vamos a crear nuestro dataframe."
   ]
  },
  {
   "cell_type": "code",
   "execution_count": 32,
   "id": "f0cf9740",
   "metadata": {},
   "outputs": [],
   "source": [
    "df = pd.DataFrame(data = data)"
   ]
  },
  {
   "cell_type": "code",
   "execution_count": 33,
   "id": "6301346e",
   "metadata": {},
   "outputs": [
    {
     "data": {
      "text/html": [
       "<div>\n",
       "<style scoped>\n",
       "    .dataframe tbody tr th:only-of-type {\n",
       "        vertical-align: middle;\n",
       "    }\n",
       "\n",
       "    .dataframe tbody tr th {\n",
       "        vertical-align: top;\n",
       "    }\n",
       "\n",
       "    .dataframe thead th {\n",
       "        text-align: right;\n",
       "    }\n",
       "</style>\n",
       "<table border=\"1\" class=\"dataframe\">\n",
       "  <thead>\n",
       "    <tr style=\"text-align: right;\">\n",
       "      <th></th>\n",
       "      <th>costumer</th>\n",
       "      <th>car</th>\n",
       "      <th>price</th>\n",
       "      <th>date</th>\n",
       "    </tr>\n",
       "  </thead>\n",
       "  <tbody>\n",
       "    <tr>\n",
       "      <th>0</th>\n",
       "      <td>Bobby Banks</td>\n",
       "      <td>Hyundai Genesis Coupe</td>\n",
       "      <td>15170</td>\n",
       "      <td>2022-09-23</td>\n",
       "    </tr>\n",
       "    <tr>\n",
       "      <th>1</th>\n",
       "      <td>Brian Matthews</td>\n",
       "      <td>Chrysler 300</td>\n",
       "      <td>13378</td>\n",
       "      <td>2021-11-10</td>\n",
       "    </tr>\n",
       "    <tr>\n",
       "      <th>2</th>\n",
       "      <td>Ashley Murphy</td>\n",
       "      <td>Chevrolet Silverado 2500 HD Regular Cab</td>\n",
       "      <td>30434</td>\n",
       "      <td>2021-04-21</td>\n",
       "    </tr>\n",
       "    <tr>\n",
       "      <th>3</th>\n",
       "      <td>Theresa Wilson</td>\n",
       "      <td>Isuzu i-370 Extended Cab</td>\n",
       "      <td>36648</td>\n",
       "      <td>2021-03-09</td>\n",
       "    </tr>\n",
       "    <tr>\n",
       "      <th>4</th>\n",
       "      <td>Judy Brewer</td>\n",
       "      <td>Dodge Ram Wagon 1500</td>\n",
       "      <td>17963</td>\n",
       "      <td>2022-06-04</td>\n",
       "    </tr>\n",
       "    <tr>\n",
       "      <th>...</th>\n",
       "      <td>...</td>\n",
       "      <td>...</td>\n",
       "      <td>...</td>\n",
       "      <td>...</td>\n",
       "    </tr>\n",
       "    <tr>\n",
       "      <th>1995</th>\n",
       "      <td>Brittany Hale</td>\n",
       "      <td>Nissan Titan Crew Cab</td>\n",
       "      <td>34862</td>\n",
       "      <td>2021-10-13</td>\n",
       "    </tr>\n",
       "    <tr>\n",
       "      <th>1996</th>\n",
       "      <td>Sarah Campbell</td>\n",
       "      <td>Cadillac DeVille</td>\n",
       "      <td>39151</td>\n",
       "      <td>2022-04-12</td>\n",
       "    </tr>\n",
       "    <tr>\n",
       "      <th>1997</th>\n",
       "      <td>Tracy Evans</td>\n",
       "      <td>INFINITI G</td>\n",
       "      <td>11412</td>\n",
       "      <td>2022-11-10</td>\n",
       "    </tr>\n",
       "    <tr>\n",
       "      <th>1998</th>\n",
       "      <td>Jacqueline Guerrero</td>\n",
       "      <td>Mitsubishi Eclipse</td>\n",
       "      <td>17310</td>\n",
       "      <td>2022-07-30</td>\n",
       "    </tr>\n",
       "    <tr>\n",
       "      <th>1999</th>\n",
       "      <td>Mr. Lucas Aguirre</td>\n",
       "      <td>Chevrolet Express 1500 Cargo</td>\n",
       "      <td>17740</td>\n",
       "      <td>2022-10-12</td>\n",
       "    </tr>\n",
       "  </tbody>\n",
       "</table>\n",
       "<p>2000 rows × 4 columns</p>\n",
       "</div>"
      ],
      "text/plain": [
       "                 costumer                                      car  price  \\\n",
       "0             Bobby Banks                    Hyundai Genesis Coupe  15170   \n",
       "1          Brian Matthews                             Chrysler 300  13378   \n",
       "2           Ashley Murphy  Chevrolet Silverado 2500 HD Regular Cab  30434   \n",
       "3          Theresa Wilson                 Isuzu i-370 Extended Cab  36648   \n",
       "4             Judy Brewer                     Dodge Ram Wagon 1500  17963   \n",
       "...                   ...                                      ...    ...   \n",
       "1995        Brittany Hale                    Nissan Titan Crew Cab  34862   \n",
       "1996       Sarah Campbell                         Cadillac DeVille  39151   \n",
       "1997          Tracy Evans                               INFINITI G  11412   \n",
       "1998  Jacqueline Guerrero                       Mitsubishi Eclipse  17310   \n",
       "1999    Mr. Lucas Aguirre             Chevrolet Express 1500 Cargo  17740   \n",
       "\n",
       "            date  \n",
       "0     2022-09-23  \n",
       "1     2021-11-10  \n",
       "2     2021-04-21  \n",
       "3     2021-03-09  \n",
       "4     2022-06-04  \n",
       "...          ...  \n",
       "1995  2021-10-13  \n",
       "1996  2022-04-12  \n",
       "1997  2022-11-10  \n",
       "1998  2022-07-30  \n",
       "1999  2022-10-12  \n",
       "\n",
       "[2000 rows x 4 columns]"
      ]
     },
     "execution_count": 33,
     "metadata": {},
     "output_type": "execute_result"
    }
   ],
   "source": [
    "df"
   ]
  },
  {
   "cell_type": "code",
   "execution_count": null,
   "id": "cbc52d05",
   "metadata": {},
   "outputs": [],
   "source": []
  }
 ],
 "metadata": {
  "kernelspec": {
   "display_name": "Python 3 (ipykernel)",
   "language": "python",
   "name": "python3"
  },
  "language_info": {
   "codemirror_mode": {
    "name": "ipython",
    "version": 3
   },
   "file_extension": ".py",
   "mimetype": "text/x-python",
   "name": "python",
   "nbconvert_exporter": "python",
   "pygments_lexer": "ipython3",
   "version": "3.10.6"
  }
 },
 "nbformat": 4,
 "nbformat_minor": 5
}
